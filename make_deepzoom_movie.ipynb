{
 "cells": [
  {
   "cell_type": "code",
   "execution_count": 15,
   "metadata": {},
   "outputs": [],
   "source": [
    "import pyvips\n",
    "import os\n",
    "import argparse\n",
    "from pathlib import Path\n",
    "from tqdm import tqdm_notebook as tqdm\n",
    "import glob\n",
    "from natsort import natsorted\n",
    "import cv2 as cv\n",
    "from hashlib import sha256\n",
    "import shutil\n",
    "import matplotlib.pyplot as plt\n",
    "import numpy as np"
   ]
  },
  {
   "cell_type": "code",
   "execution_count": 16,
   "metadata": {},
   "outputs": [],
   "source": [
    "# search_pattern = \"butterfly/*.png\"\n",
    "\n",
    "# image_paths = natsorted(glob.glob(\"butterfly/*.png\"))"
   ]
  },
  {
   "cell_type": "code",
   "execution_count": 17,
   "metadata": {},
   "outputs": [],
   "source": [
    "def read_image(image_path):\n",
    "    return cv.cvtColor(cv.cvtColor(cv.imread(image_path, 0), cv.COLOR_BAYER_BG2BGR), cv.COLOR_RGB2GRAY)\n",
    "\n",
    "def line_prepender(filename, line):\n",
    "    with open(filename, 'r+') as f:\n",
    "        content = f.read()\n",
    "        f.seek(0, 0)\n",
    "        f.write(line.rstrip('\\r\\n') + '\\n' + content)"
   ]
  },
  {
   "cell_type": "code",
   "execution_count": 36,
   "metadata": {},
   "outputs": [],
   "source": [
    "!rm -rf leaves_and_lillies\n",
    "new_dir = \"leaves_and_lillies\"\n",
    "os.makedirs(new_dir)"
   ]
  },
  {
   "cell_type": "code",
   "execution_count": 37,
   "metadata": {},
   "outputs": [],
   "source": [
    "# for image_path in tqdm(image_paths):\n",
    "#     image = read_image(image_path).astype(np.int)\n",
    "#     image = np.int0(image*255/150)\n",
    "#     image = np.clip(image, 0, 255).astype(np.uint8)\n",
    "#     cv.imwrite(os.path.join(new_dir, os.path.basename(image_path)), image)"
   ]
  },
  {
   "cell_type": "markdown",
   "metadata": {},
   "source": [
    "## Do DZI conversion for each image"
   ]
  },
  {
   "cell_type": "code",
   "execution_count": 38,
   "metadata": {},
   "outputs": [],
   "source": [
    "search_pattern = \"leafs//*.tif\"\n",
    "base_dir = 'leaves_and_lillies'"
   ]
  },
  {
   "cell_type": "code",
   "execution_count": 39,
   "metadata": {},
   "outputs": [
    {
     "name": "stdout",
     "output_type": "stream",
     "text": [
      "\n"
     ]
    },
    {
     "name": "stderr",
     "output_type": "stream",
     "text": [
      "/home/rapiduser/anaconda3/lib/python3.7/site-packages/ipykernel_launcher.py:5: TqdmDeprecationWarning: This function will be removed in tqdm==5.0.0\n",
      "Please use `tqdm.notebook.tqdm` instead of `tqdm.tqdm_notebook`\n",
      "  \"\"\"\n"
     ]
    },
    {
     "data": {
      "application/vnd.jupyter.widget-view+json": {
       "model_id": "320e5573d6484318a2b8c6420199632f",
       "version_major": 2,
       "version_minor": 0
      },
      "text/plain": [
       "HBox(children=(FloatProgress(value=0.0, max=4.0), HTML(value='')))"
      ]
     },
     "metadata": {},
     "output_type": "display_data"
    },
    {
     "name": "stdout",
     "output_type": "stream",
     "text": [
      "\n"
     ]
    }
   ],
   "source": [
    "# take first five for now as a test\n",
    "dz_image_paths = natsorted(glob.glob(search_pattern))\n",
    "os.makedirs(base_dir, exist_ok=True)\n",
    "output_folders = []\n",
    "for dzp in tqdm(dz_image_paths):\n",
    "    image = pyvips.Image.new_from_file(dzp)\n",
    "    base_name = os.path.basename(dzp)\n",
    "    output_folder = os.path.splitext(base_name)[0]\n",
    "    output_folder = os.path.join(base_dir, output_folder)\n",
    "    output_folders.append(output_folder)\n",
    "    os.makedirs(output_folder, exist_ok=False)\n",
    "    tile_size = 512\n",
    "    image.dzsave(output_folder, suffix='.jpg[Q=100]',depth=9, tile_width=tile_size, tile_height=tile_size)"
   ]
  },
  {
   "cell_type": "code",
   "execution_count": 40,
   "metadata": {},
   "outputs": [
    {
     "data": {
      "text/plain": [
       "'leaves_and_lillies/index.html'"
      ]
     },
     "execution_count": 40,
     "metadata": {},
     "output_type": "execute_result"
    }
   ],
   "source": [
    "shutil.copy2(\"base.js\", os.path.join(base_dir, \"movie.js\"))\n",
    "shutil.copy2(\"index.html\", os.path.join(base_dir, \"index.html\"))"
   ]
  },
  {
   "cell_type": "code",
   "execution_count": 41,
   "metadata": {},
   "outputs": [],
   "source": [
    "tileSources = [os.path.basename(of) + \".dzi\" for of in output_folders]"
   ]
  },
  {
   "cell_type": "code",
   "execution_count": 42,
   "metadata": {},
   "outputs": [],
   "source": [
    "line = \"tileSources = \" + str(tileSources) + \";\""
   ]
  },
  {
   "cell_type": "code",
   "execution_count": 43,
   "metadata": {},
   "outputs": [],
   "source": [
    "line_prepender(os.path.join(base_dir, \"movie.js\"), line)"
   ]
  },
  {
   "cell_type": "code",
   "execution_count": null,
   "metadata": {},
   "outputs": [],
   "source": []
  }
 ],
 "metadata": {
  "kernelspec": {
   "display_name": "Python 3",
   "language": "python",
   "name": "python3"
  },
  "language_info": {
   "codemirror_mode": {
    "name": "ipython",
    "version": 3
   },
   "file_extension": ".py",
   "mimetype": "text/x-python",
   "name": "python",
   "nbconvert_exporter": "python",
   "pygments_lexer": "ipython3",
   "version": "3.7.6"
  }
 },
 "nbformat": 4,
 "nbformat_minor": 2
}
